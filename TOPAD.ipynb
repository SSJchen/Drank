{
 "cells": [
  {
   "cell_type": "code",
   "execution_count": 77,
   "metadata": {
    "collapsed": false
   },
   "outputs": [],
   "source": [
    "data <- read.csv(\"test.csv\")"
   ]
  },
  {
   "cell_type": "code",
   "execution_count": 78,
   "metadata": {
    "collapsed": false
   },
   "outputs": [
    {
     "data": {
      "text/html": [
       "<table>\n",
       "<thead><tr><th></th><th scope=col>分析報告開始</th><th scope=col>分析報告結束</th><th scope=col>廣告名稱</th><th scope=col>投放狀態</th><th scope=col>成果</th><th scope=col>成果類型</th><th scope=col>觸及人數</th><th scope=col>頻率</th><th scope=col>每次成果的成本..USD.</th><th scope=col>支出金額..USD.</th><th scope=col>⋯</th><th scope=col>CTR.全部.</th><th scope=col>CPC.全部...USD.</th><th scope=col>瀏覽次數</th><th scope=col>CPM.每千次廣告曝光成本...USD.</th><th scope=col>連結點擊次數</th><th scope=col>CPC.連結...USD.</th><th scope=col>CTR.連結.</th><th scope=col>行銷活動名稱</th><th scope=col>不重複點擊次數.全部.</th><th scope=col>廣告組合名稱</th></tr></thead>\n",
       "<tbody>\n",
       "\t<tr><th scope=row>1</th><td>2015-12-30</td><td>2016-01-20</td><td>v01</td><td>active</td><td>269</td><td>actions:mobile_app_install</td><td>61444</td><td>1.779816</td><td>2.930967</td><td>788.43</td><td>⋯</td><td>0.4782414</td><td>1.507514</td><td>109359</td><td>7.209558</td><td>493</td><td>1.599249</td><td>0.4508088</td><td>遊戲_奇遊_花千骨_IOS_台港澳_01_vic</td><td>445</td><td>v_wusha_A_15-44_cpm</td></tr>\n",
       "\t<tr><th scope=row>2</th><td>2015-12-30</td><td>2016-01-20</td><td>v02</td><td>active</td><td>234</td><td>actions:mobile_app_install</td><td>58665</td><td>1.549339</td><td>2.768333</td><td>647.79</td><td>⋯</td><td>0.5225982</td><td>1.363768</td><td>90892</td><td>7.12703</td><td>427</td><td>1.517073</td><td>0.4697883</td><td>遊戲_奇遊_花千骨_IOS_台港澳_01_vic</td><td>427</td><td>v_wusha_A_15-44_cpm</td></tr>\n",
       "\t<tr><th scope=row>3</th><td>2015-12-30</td><td>2016-01-20</td><td>v02</td><td>active</td><td>0</td><td>actions:mobile_app_install</td><td>3</td><td>1</td><td>0</td><td>0.01</td><td>⋯</td><td>0</td><td>0</td><td>3</td><td>3.333333</td><td>NA</td><td>NA</td><td>NA</td><td>遊戲_奇遊_花千骨_IOS_台港澳_01_vic</td><td>0</td><td>v_AC064_A_15-44_cpm</td></tr>\n",
       "\t<tr><th scope=row>4</th><td>2015-12-30</td><td>2016-01-20</td><td>c05</td><td>active</td><td>503</td><td>actions:mobile_app_install</td><td>175026</td><td>1.981871</td><td>3.285348</td><td>1652.53</td><td>⋯</td><td>0.542264</td><td>0.878538</td><td>346879</td><td>4.763996</td><td>1690</td><td>0.9778284</td><td>0.4872016</td><td>遊戲_奇遊_花千骨_IOS_台港澳_01_vic</td><td>1729</td><td>mix_wusha_A_15-44_cpm</td></tr>\n",
       "\t<tr><th scope=row>5</th><td>2015-12-30</td><td>2016-01-20</td><td>c03</td><td>active</td><td>113</td><td>actions:mobile_app_install</td><td>65203</td><td>1.761453</td><td>2.326018</td><td>262.84</td><td>⋯</td><td>0.426636</td><td>0.5364082</td><td>114852</td><td>2.28851</td><td>408</td><td>0.6442157</td><td>0.3552398</td><td>遊戲_奇遊_花千骨_IOS_台港澳_01_vic</td><td>453</td><td>mix_wusha_A_15-44_cpm</td></tr>\n",
       "\t<tr><th scope=row>6</th><td>2015-12-30</td><td>2016-01-20</td><td>c02</td><td>active</td><td>224</td><td>actions:mobile_app_install</td><td>91316</td><td>1.940098</td><td>3.551518</td><td>795.54</td><td>⋯</td><td>0.5373613</td><td>0.8356513</td><td>177162</td><td>4.490466</td><td>824</td><td>0.9654612</td><td>0.465111</td><td>遊戲_奇遊_花千骨_IOS_台港澳_01_vic</td><td>871</td><td>mix_wusha_A_15-44_cpm</td></tr>\n",
       "</tbody>\n",
       "</table>\n"
      ],
      "text/latex": [
       "\\begin{tabular}{r|llllllllllllllllllllll}\n",
       "  & 分析報告開始 & 分析報告結束 & 廣告名稱 & 投放狀態 & 成果 & 成果類型 & 觸及人數 & 頻率 & 每次成果的成本..USD. & 支出金額..USD. & ⋯ & CTR.全部. & CPC.全部...USD. & 瀏覽次數 & CPM.每千次廣告曝光成本...USD. & 連結點擊次數 & CPC.連結...USD. & CTR.連結. & 行銷活動名稱 & 不重複點擊次數.全部. & 廣告組合名稱\\\\\n",
       "\\hline\n",
       "\t1 & 2015-12-30 & 2016-01-20 & v01 & active & 269 & actions:mobile_app_install & 61444 & 1.779816 & 2.930967 & 788.43 & ⋯ & 0.4782414 & 1.507514 & 109359 & 7.209558 & 493 & 1.599249 & 0.4508088 & 遊戲_奇遊_花千骨_IOS_台港澳_01_vic & 445 & v_wusha_A_15-44_cpm\\\\\n",
       "\t2 & 2015-12-30 & 2016-01-20 & v02 & active & 234 & actions:mobile_app_install & 58665 & 1.549339 & 2.768333 & 647.79 & ⋯ & 0.5225982 & 1.363768 & 90892 & 7.12703 & 427 & 1.517073 & 0.4697883 & 遊戲_奇遊_花千骨_IOS_台港澳_01_vic & 427 & v_wusha_A_15-44_cpm\\\\\n",
       "\t3 & 2015-12-30 & 2016-01-20 & v02 & active & 0 & actions:mobile_app_install & 3 & 1 & 0 & 0.01 & ⋯ & 0 & 0 & 3 & 3.333333 & NA & NA & NA & 遊戲_奇遊_花千骨_IOS_台港澳_01_vic & 0 & v_AC064_A_15-44_cpm\\\\\n",
       "\t4 & 2015-12-30 & 2016-01-20 & c05 & active & 503 & actions:mobile_app_install & 175026 & 1.981871 & 3.285348 & 1652.53 & ⋯ & 0.542264 & 0.878538 & 346879 & 4.763996 & 1690 & 0.9778284 & 0.4872016 & 遊戲_奇遊_花千骨_IOS_台港澳_01_vic & 1729 & mix_wusha_A_15-44_cpm\\\\\n",
       "\t5 & 2015-12-30 & 2016-01-20 & c03 & active & 113 & actions:mobile_app_install & 65203 & 1.761453 & 2.326018 & 262.84 & ⋯ & 0.426636 & 0.5364082 & 114852 & 2.28851 & 408 & 0.6442157 & 0.3552398 & 遊戲_奇遊_花千骨_IOS_台港澳_01_vic & 453 & mix_wusha_A_15-44_cpm\\\\\n",
       "\t6 & 2015-12-30 & 2016-01-20 & c02 & active & 224 & actions:mobile_app_install & 91316 & 1.940098 & 3.551518 & 795.54 & ⋯ & 0.5373613 & 0.8356513 & 177162 & 4.490466 & 824 & 0.9654612 & 0.465111 & 遊戲_奇遊_花千骨_IOS_台港澳_01_vic & 871 & mix_wusha_A_15-44_cpm\\\\\n",
       "\\end{tabular}\n"
      ],
      "text/plain": [
       "  分析報告開始 分析報告結束 廣告名稱 投放狀態 成果                   成果類型\n",
       "1   2015-12-30   2016-01-20      v01   active  269 actions:mobile_app_install\n",
       "2   2015-12-30   2016-01-20      v02   active  234 actions:mobile_app_install\n",
       "3   2015-12-30   2016-01-20      v02   active    0 actions:mobile_app_install\n",
       "4   2015-12-30   2016-01-20      c05   active  503 actions:mobile_app_install\n",
       "5   2015-12-30   2016-01-20      c03   active  113 actions:mobile_app_install\n",
       "6   2015-12-30   2016-01-20      c02   active  224 actions:mobile_app_install\n",
       "  觸及人數     頻率 每次成果的成本..USD. 支出金額..USD. ⋯ CTR.全部.\n",
       "1    61444 1.779816             2.930967         788.43 ⋯ 0.4782414\n",
       "2    58665 1.549339             2.768333         647.79 ⋯ 0.5225982\n",
       "3        3 1.000000             0.000000           0.01 ⋯ 0.0000000\n",
       "4   175026 1.981871             3.285348        1652.53 ⋯ 0.5422640\n",
       "5    65203 1.761453             2.326018         262.84 ⋯ 0.4266360\n",
       "6    91316 1.940098             3.551518         795.54 ⋯ 0.5373613\n",
       "  CPC.全部...USD. 瀏覽次數 CPM.每千次廣告曝光成本...USD. 連結點擊次數\n",
       "1       1.5075143   109359                      7.209558          493\n",
       "2       1.3637684    90892                      7.127030          427\n",
       "3       0.0000000        3                      3.333333           NA\n",
       "4       0.8785380   346879                      4.763996         1690\n",
       "5       0.5364082   114852                      2.288510          408\n",
       "6       0.8356513   177162                      4.490466          824\n",
       "  CPC.連結...USD. CTR.連結.                       行銷活動名稱\n",
       "1       1.5992495 0.4508088 遊戲_奇遊_花千骨_IOS_台港澳_01_vic\n",
       "2       1.5170726 0.4697883 遊戲_奇遊_花千骨_IOS_台港澳_01_vic\n",
       "3              NA        NA 遊戲_奇遊_花千骨_IOS_台港澳_01_vic\n",
       "4       0.9778284 0.4872016 遊戲_奇遊_花千骨_IOS_台港澳_01_vic\n",
       "5       0.6442157 0.3552398 遊戲_奇遊_花千骨_IOS_台港澳_01_vic\n",
       "6       0.9654612 0.4651110 遊戲_奇遊_花千骨_IOS_台港澳_01_vic\n",
       "  不重複點擊次數.全部.          廣告組合名稱\n",
       "1                  445   v_wusha_A_15-44_cpm\n",
       "2                  427   v_wusha_A_15-44_cpm\n",
       "3                    0   v_AC064_A_15-44_cpm\n",
       "4                 1729 mix_wusha_A_15-44_cpm\n",
       "5                  453 mix_wusha_A_15-44_cpm\n",
       "6                  871 mix_wusha_A_15-44_cpm"
      ]
     },
     "execution_count": 78,
     "metadata": {},
     "output_type": "execute_result"
    }
   ],
   "source": [
    "#必要欄位：行銷活動名稱、廣告名稱、觸及人數、支出金額、不重複點擊次數、成果\n",
    "head(data)"
   ]
  },
  {
   "cell_type": "code",
   "execution_count": 79,
   "metadata": {
    "collapsed": false
   },
   "outputs": [
    {
     "data": {
      "text/html": [
       "<table>\n",
       "<thead><tr><th></th><th scope=col>行銷活動名稱</th><th scope=col>廣告名稱</th><th scope=col>people</th><th scope=col>money</th><th scope=col>click</th><th scope=col>result</th></tr></thead>\n",
       "<tbody>\n",
       "\t<tr><th scope=row>1</th><td>遊戲_奇遊_花千骨_IOS_台港澳_01_vic</td><td>c02</td><td>105786</td><td>850.17</td><td>973</td><td>241</td></tr>\n",
       "\t<tr><th scope=row>2</th><td>遊戲_奇遊_花千骨_IOS_台港澳_01_vic</td><td>c03</td><td>186026</td><td>855.4</td><td>1597</td><td>333</td></tr>\n",
       "\t<tr><th scope=row>3</th><td>遊戲_奇遊_花千骨_IOS_台港澳_01_vic</td><td>c05</td><td>599409</td><td>4728.44</td><td>6100</td><td>1614</td></tr>\n",
       "\t<tr><th scope=row>4</th><td>遊戲_奇遊_花千骨_IOS_台港澳_01_vic</td><td>v01</td><td>61447</td><td>788.43</td><td>445</td><td>269</td></tr>\n",
       "\t<tr><th scope=row>5</th><td>遊戲_奇遊_花千骨_IOS_台港澳_01_vic</td><td>v02</td><td>58668</td><td>647.8</td><td>427</td><td>234</td></tr>\n",
       "</tbody>\n",
       "</table>\n"
      ],
      "text/latex": [
       "\\begin{tabular}{r|llllll}\n",
       "  & 行銷活動名稱 & 廣告名稱 & people & money & click & result\\\\\n",
       "\\hline\n",
       "\t1 & 遊戲_奇遊_花千骨_IOS_台港澳_01_vic & c02 & 105786 & 850.17 & 973 & 241\\\\\n",
       "\t2 & 遊戲_奇遊_花千骨_IOS_台港澳_01_vic & c03 & 186026 & 855.4 & 1597 & 333\\\\\n",
       "\t3 & 遊戲_奇遊_花千骨_IOS_台港澳_01_vic & c05 & 599409 & 4728.44 & 6100 & 1614\\\\\n",
       "\t4 & 遊戲_奇遊_花千骨_IOS_台港澳_01_vic & v01 & 61447 & 788.43 & 445 & 269\\\\\n",
       "\t5 & 遊戲_奇遊_花千骨_IOS_台港澳_01_vic & v02 & 58668 & 647.8 & 427 & 234\\\\\n",
       "\\end{tabular}\n"
      ],
      "text/plain": [
       "                        行銷活動名稱 廣告名稱 people   money click result\n",
       "1 遊戲_奇遊_花千骨_IOS_台港澳_01_vic      c02 105786  850.17   973    241\n",
       "2 遊戲_奇遊_花千骨_IOS_台港澳_01_vic      c03 186026  855.40  1597    333\n",
       "3 遊戲_奇遊_花千骨_IOS_台港澳_01_vic      c05 599409 4728.44  6100   1614\n",
       "4 遊戲_奇遊_花千骨_IOS_台港澳_01_vic      v01  61447  788.43   445    269\n",
       "5 遊戲_奇遊_花千骨_IOS_台港澳_01_vic      v02  58668  647.80   427    234"
      ]
     },
     "execution_count": 79,
     "metadata": {},
     "output_type": "execute_result"
    }
   ],
   "source": [
    "#資料合併\n",
    "\n",
    "library(plyr)\n",
    "\n",
    "a <- ddply(data, c(\"行銷活動名稱\",\"廣告名稱\"), summarize,  \n",
    "           people=sum(觸及人數), \n",
    "           money=sum(支出金額..USD.), \n",
    "           click=sum(不重複點擊次數.全部.), \n",
    "           result=sum(成果))\n",
    "\n",
    "head(a)"
   ]
  },
  {
   "cell_type": "code",
   "execution_count": 120,
   "metadata": {
    "collapsed": false
   },
   "outputs": [
    {
     "data": {
      "text/html": [
       "<table>\n",
       "<thead><tr><th></th><th scope=col>行銷活動名稱</th><th scope=col>廣告名稱</th><th scope=col>people</th><th scope=col>money</th><th scope=col>click</th><th scope=col>result</th><th scope=col>CTR</th><th scope=col>CPC</th><th scope=col>CPI</th><th scope=col>CPM</th></tr></thead>\n",
       "<tbody>\n",
       "\t<tr><th scope=row>1</th><td>遊戲_奇遊_花千骨_IOS_台港澳_01_vic</td><td>c02</td><td>105786</td><td>850.17</td><td>973</td><td>241</td><td>0.9197814</td><td>0.8737616</td><td>3.527676</td><td>8.036697</td></tr>\n",
       "\t<tr><th scope=row>2</th><td>遊戲_奇遊_花千骨_IOS_台港澳_01_vic</td><td>c03</td><td>186026</td><td>855.4</td><td>1597</td><td>333</td><td>0.8584821</td><td>0.5356293</td><td>2.568769</td><td>4.598282</td></tr>\n",
       "\t<tr><th scope=row>3</th><td>遊戲_奇遊_花千骨_IOS_台港澳_01_vic</td><td>c05</td><td>599409</td><td>4728.44</td><td>6100</td><td>1614</td><td>1.017669</td><td>0.7751541</td><td>2.929641</td><td>7.888504</td></tr>\n",
       "\t<tr><th scope=row>4</th><td>遊戲_奇遊_花千骨_IOS_台港澳_01_vic</td><td>v01</td><td>61447</td><td>788.43</td><td>445</td><td>269</td><td>0.7242013</td><td>1.771753</td><td>2.930967</td><td>12.83106</td></tr>\n",
       "\t<tr><th scope=row>5</th><td>遊戲_奇遊_花千骨_IOS_台港澳_01_vic</td><td>v02</td><td>58668</td><td>647.8</td><td>427</td><td>234</td><td>0.7278244</td><td>1.517096</td><td>2.768376</td><td>11.04179</td></tr>\n",
       "</tbody>\n",
       "</table>\n"
      ],
      "text/latex": [
       "\\begin{tabular}{r|llllllllll}\n",
       "  & 行銷活動名稱 & 廣告名稱 & people & money & click & result & CTR & CPC & CPI & CPM\\\\\n",
       "\\hline\n",
       "\t1 & 遊戲_奇遊_花千骨_IOS_台港澳_01_vic & c02 & 105786 & 850.17 & 973 & 241 & 0.9197814 & 0.8737616 & 3.527676 & 8.036697\\\\\n",
       "\t2 & 遊戲_奇遊_花千骨_IOS_台港澳_01_vic & c03 & 186026 & 855.4 & 1597 & 333 & 0.8584821 & 0.5356293 & 2.568769 & 4.598282\\\\\n",
       "\t3 & 遊戲_奇遊_花千骨_IOS_台港澳_01_vic & c05 & 599409 & 4728.44 & 6100 & 1614 & 1.017669 & 0.7751541 & 2.929641 & 7.888504\\\\\n",
       "\t4 & 遊戲_奇遊_花千骨_IOS_台港澳_01_vic & v01 & 61447 & 788.43 & 445 & 269 & 0.7242013 & 1.771753 & 2.930967 & 12.83106\\\\\n",
       "\t5 & 遊戲_奇遊_花千骨_IOS_台港澳_01_vic & v02 & 58668 & 647.8 & 427 & 234 & 0.7278244 & 1.517096 & 2.768376 & 11.04179\\\\\n",
       "\\end{tabular}\n"
      ],
      "text/plain": [
       "                        行銷活動名稱 廣告名稱 people   money click result\n",
       "1 遊戲_奇遊_花千骨_IOS_台港澳_01_vic      c02 105786  850.17   973    241\n",
       "2 遊戲_奇遊_花千骨_IOS_台港澳_01_vic      c03 186026  855.40  1597    333\n",
       "3 遊戲_奇遊_花千骨_IOS_台港澳_01_vic      c05 599409 4728.44  6100   1614\n",
       "4 遊戲_奇遊_花千骨_IOS_台港澳_01_vic      v01  61447  788.43   445    269\n",
       "5 遊戲_奇遊_花千骨_IOS_台港澳_01_vic      v02  58668  647.80   427    234\n",
       "        CTR       CPC      CPI       CPM\n",
       "1 0.9197814 0.8737616 3.527676  8.036697\n",
       "2 0.8584821 0.5356293 2.568769  4.598282\n",
       "3 1.0176691 0.7751541 2.929641  7.888504\n",
       "4 0.7242013 1.7717528 2.930967 12.831058\n",
       "5 0.7278244 1.5170960 2.768376 11.041795"
      ]
     },
     "execution_count": 120,
     "metadata": {},
     "output_type": "execute_result"
    }
   ],
   "source": [
    "#index欄位計算\n",
    "a$CTR <- (a$click/a$people)*100\n",
    "a$CPC <- (a$money/a$click)\n",
    "a$CPI <- (a$money/a$result)\n",
    "a$CPM <- (a$money/a$people)*1000\n",
    "\n",
    "b <- a\n",
    "head(b)"
   ]
  },
  {
   "cell_type": "code",
   "execution_count": 127,
   "metadata": {
    "collapsed": false
   },
   "outputs": [
    {
     "data": {
      "text/html": [
       "<table>\n",
       "<thead><tr><th></th><th scope=col>行銷活動名稱</th><th scope=col>廣告名稱</th><th scope=col>people</th><th scope=col>money</th><th scope=col>click</th><th scope=col>result</th><th scope=col>CTR</th><th scope=col>CPC</th><th scope=col>CPI</th><th scope=col>CPM</th><th scope=col>score</th></tr></thead>\n",
       "<tbody>\n",
       "\t<tr><th scope=row>1</th><td>遊戲_奇遊_花千骨_IOS_台港澳_01_vic</td><td>c02</td><td>105786</td><td>850.17</td><td>973</td><td>241</td><td>7</td><td>3</td><td>4</td><td>3</td><td>17</td></tr>\n",
       "\t<tr><th scope=row>2</th><td>遊戲_奇遊_花千骨_IOS_台港澳_01_vic</td><td>c03</td><td>186026</td><td>855.4</td><td>1597</td><td>333</td><td>5</td><td>5</td><td>20</td><td>5</td><td>35</td></tr>\n",
       "\t<tr><th scope=row>3</th><td>遊戲_奇遊_花千骨_IOS_台港澳_01_vic</td><td>c05</td><td>599409</td><td>4728.44</td><td>6100</td><td>1614</td><td>9</td><td>4</td><td>12</td><td>4</td><td>29</td></tr>\n",
       "\t<tr><th scope=row>4</th><td>遊戲_奇遊_花千骨_IOS_台港澳_01_vic</td><td>v01</td><td>61447</td><td>788.43</td><td>445</td><td>269</td><td>1</td><td>1</td><td>8</td><td>1</td><td>11</td></tr>\n",
       "\t<tr><th scope=row>5</th><td>遊戲_奇遊_花千骨_IOS_台港澳_01_vic</td><td>v02</td><td>58668</td><td>647.8</td><td>427</td><td>234</td><td>3</td><td>2</td><td>16</td><td>2</td><td>23</td></tr>\n",
       "</tbody>\n",
       "</table>\n"
      ],
      "text/latex": [
       "\\begin{tabular}{r|lllllllllll}\n",
       "  & 行銷活動名稱 & 廣告名稱 & people & money & click & result & CTR & CPC & CPI & CPM & score\\\\\n",
       "\\hline\n",
       "\t1 & 遊戲_奇遊_花千骨_IOS_台港澳_01_vic & c02 & 105786 & 850.17 & 973 & 241 & 7 & 3 & 4 & 3 & 17\\\\\n",
       "\t2 & 遊戲_奇遊_花千骨_IOS_台港澳_01_vic & c03 & 186026 & 855.4 & 1597 & 333 & 5 & 5 & 20 & 5 & 35\\\\\n",
       "\t3 & 遊戲_奇遊_花千骨_IOS_台港澳_01_vic & c05 & 599409 & 4728.44 & 6100 & 1614 & 9 & 4 & 12 & 4 & 29\\\\\n",
       "\t4 & 遊戲_奇遊_花千骨_IOS_台港澳_01_vic & v01 & 61447 & 788.43 & 445 & 269 & 1 & 1 & 8 & 1 & 11\\\\\n",
       "\t5 & 遊戲_奇遊_花千骨_IOS_台港澳_01_vic & v02 & 58668 & 647.8 & 427 & 234 & 3 & 2 & 16 & 2 & 23\\\\\n",
       "\\end{tabular}\n"
      ],
      "text/plain": [
       "                        行銷活動名稱 廣告名稱 people   money click result CTR\n",
       "1 遊戲_奇遊_花千骨_IOS_台港澳_01_vic      c02 105786  850.17   973    241   7\n",
       "2 遊戲_奇遊_花千骨_IOS_台港澳_01_vic      c03 186026  855.40  1597    333   5\n",
       "3 遊戲_奇遊_花千骨_IOS_台港澳_01_vic      c05 599409 4728.44  6100   1614   9\n",
       "4 遊戲_奇遊_花千骨_IOS_台港澳_01_vic      v01  61447  788.43   445    269   1\n",
       "5 遊戲_奇遊_花千骨_IOS_台港澳_01_vic      v02  58668  647.80   427    234   3\n",
       "  CPC CPI CPM score\n",
       "1   3   4   3    17\n",
       "2   5  20   5    35\n",
       "3   4  12   4    29\n",
       "4   1   8   1    11\n",
       "5   2  16   2    23"
      ]
     },
     "execution_count": 127,
     "metadata": {},
     "output_type": "execute_result"
    }
   ],
   "source": [
    "#ntile(rank),result和CTR越大越好,CPC.CPM和CPI越小越好。\n",
    "#with weight factor\n",
    "\n",
    "library(data.table)\n",
    "\n",
    "#b$result <- ntile(b$result, 40) \n",
    "b$CTR <- ntile(b$CTR, 10)\n",
    "b$CPC <- ntile(b$CPC, 5)\n",
    "b$CPC <- abs(6-b$CPC)\n",
    "b$CPI <- ntile(b$CPI, 20)\n",
    "b$CPI <- abs(21-b$CPI)\n",
    "b$CPM <- ntile(b$CPM, 5)\n",
    "b$CPM <- abs(6-b$CPM)\n",
    "b$score <- b$CTR + b$CPC + b$CPI + b$CPM\n",
    "head(b)"
   ]
  },
  {
   "cell_type": "code",
   "execution_count": 128,
   "metadata": {
    "collapsed": false
   },
   "outputs": [
    {
     "data": {
      "text/html": [
       "<table>\n",
       "<thead><tr><th></th><th scope=col>廣告名稱</th><th scope=col>score</th><th scope=col>Rank</th></tr></thead>\n",
       "<tbody>\n",
       "\t<tr><th scope=row>1</th><td>c02</td><td>17</td><td>4</td></tr>\n",
       "\t<tr><th scope=row>2</th><td>c03</td><td>35</td><td>1</td></tr>\n",
       "\t<tr><th scope=row>3</th><td>c05</td><td>29</td><td>2</td></tr>\n",
       "\t<tr><th scope=row>4</th><td>v01</td><td>11</td><td>5</td></tr>\n",
       "\t<tr><th scope=row>5</th><td>v02</td><td>23</td><td>3</td></tr>\n",
       "</tbody>\n",
       "</table>\n"
      ],
      "text/latex": [
       "\\begin{tabular}{r|lll}\n",
       "  & 廣告名稱 & score & Rank\\\\\n",
       "\\hline\n",
       "\t1 & c02 & 17 & 4\\\\\n",
       "\t2 & c03 & 35 & 1\\\\\n",
       "\t3 & c05 & 29 & 2\\\\\n",
       "\t4 & v01 & 11 & 5\\\\\n",
       "\t5 & v02 & 23 & 3\\\\\n",
       "\\end{tabular}\n"
      ],
      "text/plain": [
       "   廣告名稱 score Rank\n",
       "1:      c02    17    4\n",
       "2:      c03    35    1\n",
       "3:      c05    29    2\n",
       "4:      v01    11    5\n",
       "5:      v02    23    3"
      ]
     },
     "execution_count": 128,
     "metadata": {},
     "output_type": "execute_result"
    }
   ],
   "source": [
    "c <- b[c(\"廣告名稱\",\"score\")]\n",
    "c <- setDT(c)[order(-score), Rank := .GRP, -score]\n",
    "c"
   ]
  },
  {
   "cell_type": "code",
   "execution_count": 129,
   "metadata": {
    "collapsed": false
   },
   "outputs": [
    {
     "data": {
      "text/html": [
       "<table>\n",
       "<thead><tr><th></th><th scope=col>廣告名稱</th><th scope=col>行銷活動名稱</th><th scope=col>people</th><th scope=col>money</th><th scope=col>click</th><th scope=col>result</th><th scope=col>CTR</th><th scope=col>CPC</th><th scope=col>CPI</th><th scope=col>CPM</th><th scope=col>score</th><th scope=col>Rank</th></tr></thead>\n",
       "<tbody>\n",
       "\t<tr><th scope=row>1</th><td>c03</td><td>遊戲_奇遊_花千骨_IOS_台港澳_01_vic</td><td>186026</td><td>855.4</td><td>1597</td><td>333</td><td>0.8584821</td><td>0.5356293</td><td>2.568769</td><td>4.598282</td><td>35</td><td>1</td></tr>\n",
       "\t<tr><th scope=row>2</th><td>c05</td><td>遊戲_奇遊_花千骨_IOS_台港澳_01_vic</td><td>599409</td><td>4728.44</td><td>6100</td><td>1614</td><td>1.017669</td><td>0.7751541</td><td>2.929641</td><td>7.888504</td><td>29</td><td>2</td></tr>\n",
       "\t<tr><th scope=row>3</th><td>v02</td><td>遊戲_奇遊_花千骨_IOS_台港澳_01_vic</td><td>58668</td><td>647.8</td><td>427</td><td>234</td><td>0.7278244</td><td>1.517096</td><td>2.768376</td><td>11.04179</td><td>23</td><td>3</td></tr>\n",
       "\t<tr><th scope=row>4</th><td>c02</td><td>遊戲_奇遊_花千骨_IOS_台港澳_01_vic</td><td>105786</td><td>850.17</td><td>973</td><td>241</td><td>0.9197814</td><td>0.8737616</td><td>3.527676</td><td>8.036697</td><td>17</td><td>4</td></tr>\n",
       "\t<tr><th scope=row>5</th><td>v01</td><td>遊戲_奇遊_花千骨_IOS_台港澳_01_vic</td><td>61447</td><td>788.43</td><td>445</td><td>269</td><td>0.7242013</td><td>1.771753</td><td>2.930967</td><td>12.83106</td><td>11</td><td>5</td></tr>\n",
       "</tbody>\n",
       "</table>\n"
      ],
      "text/latex": [
       "\\begin{tabular}{r|llllllllllll}\n",
       "  & 廣告名稱 & 行銷活動名稱 & people & money & click & result & CTR & CPC & CPI & CPM & score & Rank\\\\\n",
       "\\hline\n",
       "\t1 & c03 & 遊戲_奇遊_花千骨_IOS_台港澳_01_vic & 186026 & 855.4 & 1597 & 333 & 0.8584821 & 0.5356293 & 2.568769 & 4.598282 & 35 & 1\\\\\n",
       "\t2 & c05 & 遊戲_奇遊_花千骨_IOS_台港澳_01_vic & 599409 & 4728.44 & 6100 & 1614 & 1.017669 & 0.7751541 & 2.929641 & 7.888504 & 29 & 2\\\\\n",
       "\t3 & v02 & 遊戲_奇遊_花千骨_IOS_台港澳_01_vic & 58668 & 647.8 & 427 & 234 & 0.7278244 & 1.517096 & 2.768376 & 11.04179 & 23 & 3\\\\\n",
       "\t4 & c02 & 遊戲_奇遊_花千骨_IOS_台港澳_01_vic & 105786 & 850.17 & 973 & 241 & 0.9197814 & 0.8737616 & 3.527676 & 8.036697 & 17 & 4\\\\\n",
       "\t5 & v01 & 遊戲_奇遊_花千骨_IOS_台港澳_01_vic & 61447 & 788.43 & 445 & 269 & 0.7242013 & 1.771753 & 2.930967 & 12.83106 & 11 & 5\\\\\n",
       "\\end{tabular}\n"
      ],
      "text/plain": [
       "   廣告名稱                       行銷活動名稱 people   money click result\n",
       "1:      c03 遊戲_奇遊_花千骨_IOS_台港澳_01_vic 186026  855.40  1597    333\n",
       "2:      c05 遊戲_奇遊_花千骨_IOS_台港澳_01_vic 599409 4728.44  6100   1614\n",
       "3:      v02 遊戲_奇遊_花千骨_IOS_台港澳_01_vic  58668  647.80   427    234\n",
       "4:      c02 遊戲_奇遊_花千骨_IOS_台港澳_01_vic 105786  850.17   973    241\n",
       "5:      v01 遊戲_奇遊_花千骨_IOS_台港澳_01_vic  61447  788.43   445    269\n",
       "         CTR       CPC      CPI       CPM score Rank\n",
       "1: 0.8584821 0.5356293 2.568769  4.598282    35    1\n",
       "2: 1.0176691 0.7751541 2.929641  7.888504    29    2\n",
       "3: 0.7278244 1.5170960 2.768376 11.041795    23    3\n",
       "4: 0.9197814 0.8737616 3.527676  8.036697    17    4\n",
       "5: 0.7242013 1.7717528 2.930967 12.831058    11    5"
      ]
     },
     "execution_count": 129,
     "metadata": {},
     "output_type": "execute_result"
    }
   ],
   "source": [
    "d <- merge(a, c, by = \"廣告名稱\")\n",
    "d <- setDT(d)[order(Rank)]\n",
    "\n",
    "d"
   ]
  },
  {
   "cell_type": "code",
   "execution_count": null,
   "metadata": {
    "collapsed": true
   },
   "outputs": [],
   "source": []
  }
 ],
 "metadata": {
  "kernelspec": {
   "display_name": "R",
   "language": "R",
   "name": "ir"
  },
  "language_info": {
   "codemirror_mode": "r",
   "file_extension": ".r",
   "mimetype": "text/x-r-source",
   "name": "R",
   "pygments_lexer": "r",
   "version": "3.2.3"
  }
 },
 "nbformat": 4,
 "nbformat_minor": 0
}
